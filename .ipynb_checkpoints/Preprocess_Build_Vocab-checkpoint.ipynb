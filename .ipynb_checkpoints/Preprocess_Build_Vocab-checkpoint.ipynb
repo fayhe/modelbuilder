{
 "cells": [
  {
   "cell_type": "code",
   "execution_count": 1,
   "metadata": {
    "collapsed": true
   },
   "outputs": [],
   "source": [
    "#use spacy to preprocess the original text for entity extraction\n",
    "from __future__ import unicode_literals\n",
    "from textacy import fileio, preprocess, extract, Corpus "
   ]
  },
  {
   "cell_type": "code",
   "execution_count": 2,
   "metadata": {
    "collapsed": false
   },
   "outputs": [
    {
     "name": "stdout",
     "output_type": "stream",
     "text": [
      "[519, 2422, 659, 207883, 119646, 2637, 10134]\n",
      "1510241\n",
      "[2422, 10134, 4382, 468, 207883, 506, 2637, 487]\n",
      "[659, 2637, 4382, 468, 119646, 506, 2637, 487]\n"
     ]
    }
   ],
   "source": [
    "from textacy import Doc\n",
    "#sample_corpus = corpus_train.docs[110]\n",
    "sample_doc = Doc(\"Two buses belong to SMRT ( bus)\")\n",
    "preprocess.replace_numbers(sample_doc.text)\n",
    "\n",
    "vob_sub = sample_doc.spacy_stringstore\n",
    "sample_vob = ['one', 'Two', 'two', 'SMRT', 'smrt', 'bus', 'buses']\n",
    "print(map(lambda i:vob_sub[i], sample_vob))\n",
    "\n",
    "print(vob_sub.size)\n",
    "\n",
    "print(map(lambda i:vob_sub[i.text], sample_doc))\n",
    "print(map(lambda i:i.lemma, sample_doc))"
   ]
  },
  {
   "cell_type": "code",
   "execution_count": 3,
   "metadata": {
    "collapsed": false
   },
   "outputs": [],
   "source": [
    "summary_docs = fileio.read_file_lines('/home/SMRT-labeled/summary-docs')\n",
    "raw_text = [t for t in summary_docs]\n",
    "prep_text = [preprocess.replace_numbers(t, '_NUM_') for t in raw_text]\n",
    "\n",
    "corpus_train = Corpus('en', texts = prep_text)"
   ]
  },
  {
   "cell_type": "code",
   "execution_count": 4,
   "metadata": {
    "collapsed": false
   },
   "outputs": [
    {
     "data": {
      "text/plain": [
       "1766"
      ]
     },
     "execution_count": 4,
     "metadata": {},
     "output_type": "execute_result"
    }
   ],
   "source": [
    "corpus_train.n_docs"
   ]
  },
  {
   "cell_type": "code",
   "execution_count": 5,
   "metadata": {
    "collapsed": false
   },
   "outputs": [],
   "source": [
    "#build the dictionary\n",
    "from collections import Counter\n",
    "\n",
    "dict_all = Counter(map(lambda i:i.lemma_, corpus_train.docs[0]))\n",
    "\n",
    "for doc_i in corpus_train.docs[1:]:\n",
    "    dict_all = dict_all + Counter(map(lambda i:i.lemma_, doc_i))"
   ]
  },
  {
   "cell_type": "code",
   "execution_count": 6,
   "metadata": {
    "collapsed": false
   },
   "outputs": [],
   "source": [
    "import json\n",
    "\n",
    "dict_all.pop('\\n', None)\n",
    "\n",
    "dict_all_cut = {k:v for k, v in dict_all.iteritems() if v>=5}\n",
    "\n",
    "with open('./dict/vocab_freq.json', 'w') as fp:\n",
    "    json.dump(dict_all_cut, fp)\n",
    "    \n",
    "dict_key = [k for k,v in dict_all_cut.iteritems()]\n",
    "dict_key_v = {k:v for k, v in zip(dict_key, range(len(dict_key)))}\n",
    "\n",
    "with open('./dict/vocab_list.json', 'w') as fp:\n",
    "    json.dump(dict_key_v, fp)"
   ]
  },
  {
   "cell_type": "code",
   "execution_count": 7,
   "metadata": {
    "collapsed": false
   },
   "outputs": [
    {
     "data": {
      "text/plain": [
       "2632"
      ]
     },
     "execution_count": 7,
     "metadata": {},
     "output_type": "execute_result"
    }
   ],
   "source": [
    "len(dict_all_cut.keys())"
   ]
  },
  {
   "cell_type": "code",
   "execution_count": null,
   "metadata": {
    "collapsed": false
   },
   "outputs": [],
   "source": [
    "sent_len = []\n",
    "\n",
    "for doc_i in corpus_train.docs:\n",
    "    for sent_i in doc_i.sents:\n",
    "        sent_len.append(len(sent_i))"
   ]
  },
  {
   "cell_type": "code",
   "execution_count": null,
   "metadata": {
    "collapsed": false
   },
   "outputs": [],
   "source": [
    "example_sent = [i for i in corpus_train.docs[2].sents]\n",
    "print(example_sent[1])\n",
    "print('Length: '+str(len(example_sent[1])))"
   ]
  },
  {
   "cell_type": "code",
   "execution_count": null,
   "metadata": {
    "collapsed": false
   },
   "outputs": [],
   "source": [
    "#get the rough estimation of sentence length\n",
    "print(max(sent_len))\n",
    "print(min(sent_len))"
   ]
  },
  {
   "cell_type": "code",
   "execution_count": null,
   "metadata": {
    "collapsed": false
   },
   "outputs": [],
   "source": [
    "from matplotlib import pyplot\n",
    "%matplotlib inline\n",
    "\n",
    "#hist(token_size)\n",
    "pyplot.hist(sent_len)\n",
    "pyplot.show()"
   ]
  },
  {
   "cell_type": "code",
   "execution_count": null,
   "metadata": {
    "collapsed": false
   },
   "outputs": [],
   "source": [
    "import csv\n",
    "import random\n",
    "\n",
    "random.sample(range(100), 10)"
   ]
  },
  {
   "cell_type": "code",
   "execution_count": null,
   "metadata": {
    "collapsed": false
   },
   "outputs": [],
   "source": [
    "with open(\"/home/NER-label/training-set-to-label\", 'wb') as f:\n",
    "    csv_w = csv.writer(f, quotechar = str(\"'\"))\n",
    "    \n",
    "    train_text = random.sample(range(corpus_train.n_docs), 1000)\n",
    "    \n",
    "    for corp_i in train_text:\n",
    "        corp = corpus_train.docs[corp_i]\n",
    "        ne_tag_list = ['O'] * corp.n_tokens\n",
    "\n",
    "        ne = extract.named_entities(corp)\n",
    "        for i_ne in ne:\n",
    "            ne_tag_list[i_ne.start:i_ne.end] = [i_ne.label_]*(i_ne.end - i_ne.start)\n",
    "\n",
    "        pos_tag_list = corp.pos_tagged_text\n",
    "\n",
    "        sent_len = [0]\n",
    "        for pos_sent in pos_tag_list:\n",
    "            sent_len.append(len(pos_sent))\n",
    "\n",
    "        new_ne_tag_list = [ne_tag_list[(reduce(lambda x, y:(x+y), sent_len[0:i])):(reduce(lambda x, y:(x+y), sent_len[0:i])+sent_len[i])] for i in range(1, len(sent_len)) ]\n",
    "\n",
    "        for i_sent in range(len(pos_tag_list)):\n",
    "            combined = (zip(map(lambda x:x[1], pos_tag_list[i_sent]), map(lambda x:x[0], pos_tag_list[i_sent]), new_ne_tag_list[i_sent]))\n",
    "            for v_i in combined:\n",
    "                if(v_i[1] != u'\\n'):\n",
    "                    csv_w.writerow(v_i)\n",
    "            csv_w.writerow([\"\"]*3)"
   ]
  }
 ],
 "metadata": {
  "anaconda-cloud": {},
  "kernelspec": {
   "display_name": "Python [default]",
   "language": "python",
   "name": "python2"
  },
  "language_info": {
   "codemirror_mode": {
    "name": "ipython",
    "version": 2
   },
   "file_extension": ".py",
   "mimetype": "text/x-python",
   "name": "python",
   "nbconvert_exporter": "python",
   "pygments_lexer": "ipython2",
   "version": "2.7.12"
  }
 },
 "nbformat": 4,
 "nbformat_minor": 1
}
