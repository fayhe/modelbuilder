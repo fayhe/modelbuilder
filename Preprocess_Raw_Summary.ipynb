{
 "cells": [
  {
   "cell_type": "code",
   "execution_count": 1,
   "metadata": {
    "collapsed": false
   },
   "outputs": [],
   "source": [
    "import csv\n",
    "from textacy import preprocess\n",
    "import ftfy\n",
    "import codecs"
   ]
  },
  {
   "cell_type": "code",
   "execution_count": 2,
   "metadata": {
    "collapsed": false
   },
   "outputs": [],
   "source": [
    "file_reader = csv.reader(open(\"/home/SMRT-labeled/Book1.csv\", 'rb'))\n",
    "\n",
    "title = file_reader.next()\n",
    "#lines = [fl for fl in file_reader]"
   ]
  },
  {
   "cell_type": "code",
   "execution_count": 3,
   "metadata": {
    "collapsed": false
   },
   "outputs": [
    {
     "name": "stdout",
     "output_type": "stream",
     "text": [
      "['Category', 'Topic', 'Tonality', 'Summary']\n"
     ]
    }
   ],
   "source": [
    "print(title)"
   ]
  },
  {
   "cell_type": "code",
   "execution_count": 4,
   "metadata": {
    "collapsed": false
   },
   "outputs": [],
   "source": [
    "Category = []\n",
    "Topic = []\n",
    "Tonality = []\n",
    "Summary = []\n",
    "\n",
    "for [cat, top, ton, summ] in file_reader:\n",
    "    Category.append(cat)\n",
    "    Topic.append(top)\n",
    "    Tonality.append(ton)\n",
    "    Summary.append(summ)"
   ]
  },
  {
   "cell_type": "code",
   "execution_count": 5,
   "metadata": {
    "collapsed": false
   },
   "outputs": [
    {
     "name": "stdout",
     "output_type": "stream",
     "text": [
      "4175\n"
     ]
    }
   ],
   "source": [
    "def cleanSummary(summ_i):\n",
    "    preprocessed_line = preprocess.remove_accents(summ_i.decode('unicode-escape'), method=u'ascii')\n",
    "    preprocessed_line = preprocess.normalize_whitespace(preprocessed_line)\n",
    "    preprocessed_line = preprocess.replace_urls(preprocessed_line)\n",
    "    preprocessed_line = preprocessed_line.replace(\"\\n\", '')\n",
    "    \n",
    "    return preprocessed_line\n",
    "\n",
    "Summary = map(cleanSummary, Summary)\n",
    "print(len(Summary))"
   ]
  },
  {
   "cell_type": "code",
   "execution_count": 6,
   "metadata": {
    "collapsed": false
   },
   "outputs": [
    {
     "name": "stdout",
     "output_type": "stream",
     "text": [
      "1766\n"
     ]
    }
   ],
   "source": [
    "#remove duplicated summary and get index filter\n",
    "Summary_set = list(set(Summary))\n",
    "index_filter = [Summary.index(x) for x in Summary_set]\n",
    "print(len(Summary_set))"
   ]
  },
  {
   "cell_type": "code",
   "execution_count": 7,
   "metadata": {
    "collapsed": false
   },
   "outputs": [],
   "source": [
    "def cleanMeta(meta_i):\n",
    "    preprocessed_line = preprocess.fix_bad_unicode(meta_i.decode('unicode-escape'), normalization=u'NFKD')\n",
    "    preprocessed_line = preprocess.normalize_whitespace(preprocessed_line)\n",
    "    \n",
    "    if(len(preprocessed_line) == 0):\n",
    "        preprocessed_line = u'Unknown'\n",
    "    \n",
    "    return preprocessed_line.lower()\n",
    "\n",
    "Category = map(cleanMeta, Category)\n",
    "Topic = map(cleanMeta, Topic)\n",
    "Tonality = map(cleanMeta, Tonality)\n",
    "\n",
    "Category_set = [Category[i] for i in index_filter]\n",
    "Topic_set = [Topic[i] for i in index_filter]\n",
    "Tonality_set = [Tonality[i] for i in index_filter]"
   ]
  },
  {
   "cell_type": "code",
   "execution_count": 8,
   "metadata": {
    "collapsed": false
   },
   "outputs": [
    {
     "name": "stdout",
     "output_type": "stream",
     "text": [
      "set([u'taxi', u'overseas news', u'public transport industry', u'forum', u'smrt corporate', u'competitors', u'smrt buses', u'unknown', u'smrt taxis', u'smrt trains'])\n",
      "1766\n",
      "(10, 10)\n"
     ]
    }
   ],
   "source": [
    "#check category before putting it as meta\n",
    "print(set(Category_set))\n",
    "print(len(Category_set))\n",
    "\n",
    "print(len(list(set(Category_set))), len(list(set(Category))))"
   ]
  },
  {
   "cell_type": "code",
   "execution_count": 9,
   "metadata": {
    "collapsed": false
   },
   "outputs": [
    {
     "name": "stdout",
     "output_type": "stream",
     "text": [
      "corporate & financials\n",
      "service excellence\n",
      "facilities\n",
      "crisis / delays & distributions / accidents / safety\n",
      "financials\n",
      "labour & union\n",
      "unknown\n",
      "labour\n",
      "general / others\n",
      "repair/maintenance\n",
      "facilities & services\n",
      "fines\n",
      "csr\n",
      "customer satisfaction\n",
      "corporate social responsibility\n",
      "customer service\n",
      "commuter behaviour\n",
      "rail & engineering\n",
      "regulations\n",
      "service announcements\n",
      "fares\n",
      "safety/accident\n",
      "regulations & ops\n",
      "delay/disruption\n",
      "(24, 24)\n"
     ]
    }
   ],
   "source": [
    "#check Topic before putting it as meta\n",
    "for i in list(set(Topic_set)):\n",
    "    print i\n",
    "print(len(list(set(Topic_set))), len(list(set(Topic))))"
   ]
  },
  {
   "cell_type": "code",
   "execution_count": 10,
   "metadata": {
    "collapsed": false
   },
   "outputs": [
    {
     "name": "stdout",
     "output_type": "stream",
     "text": [
      "set([u'unknown', u'neutral', u'negative', u'positive'])\n",
      "1766\n"
     ]
    }
   ],
   "source": [
    "#check Tonality before putting it as meta\n",
    "print(set(Tonality_set))\n",
    "print(len(Tonality_set))"
   ]
  },
  {
   "cell_type": "code",
   "execution_count": 11,
   "metadata": {
    "collapsed": false
   },
   "outputs": [],
   "source": [
    "#summary to corpus\n",
    "from textacy import corpus\n",
    "\n",
    "metadata = map(lambda x:{'Category':x[0], 'Topic':x[1], 'Tonality':x[2]}, zip(Category_set, Topic_set, Tonality_set))\n",
    "smrt_summary = corpus.Corpus(u'en', texts = Summary_set, metadatas = metadata)\n",
    "\n",
    "#save corpus to disk for future use\n",
    "#smrt_summary.save('/home/SMRT-labeled/', name='summary', compression='gzip')\n",
    "#failed to load!!!"
   ]
  },
  {
   "cell_type": "code",
   "execution_count": 12,
   "metadata": {
    "collapsed": false
   },
   "outputs": [],
   "source": [
    "from textacy import fileio\n",
    "\n",
    "#fileio.write_spacy_docs([d.spacy_doc for d in smrt_summary.docs], '/home/SMRT-labeled/summary-docs')\n",
    "\n",
    "fileio.write_file_lines([d.spacy_doc.text for d in smrt_summary.docs], '/home/SMRT-labeled/summary-docs')\n",
    "fileio.write_json(metadata, '/home/SMRT-labeled/summary-meta')"
   ]
  }
 ],
 "metadata": {
  "kernelspec": {
   "display_name": "Python 2",
   "language": "python",
   "name": "python2"
  },
  "language_info": {
   "codemirror_mode": {
    "name": "ipython",
    "version": 2
   },
   "file_extension": ".py",
   "mimetype": "text/x-python",
   "name": "python",
   "nbconvert_exporter": "python",
   "pygments_lexer": "ipython2",
   "version": "2.7.9"
  }
 },
 "nbformat": 4,
 "nbformat_minor": 1
}
