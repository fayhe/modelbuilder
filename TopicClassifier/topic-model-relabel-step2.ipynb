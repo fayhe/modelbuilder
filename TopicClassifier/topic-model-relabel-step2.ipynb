{
 "cells": [
  {
   "cell_type": "code",
   "execution_count": 1,
   "metadata": {
    "collapsed": false
   },
   "outputs": [],
   "source": [
    "from __future__ import unicode_literals\n",
    "from textacy import fileio, preprocess, extract, Corpus"
   ]
  },
  {
   "cell_type": "code",
   "execution_count": 2,
   "metadata": {
    "collapsed": false
   },
   "outputs": [],
   "source": [
    "summary_docs = fileio.read_file_lines('/home/SMRT-labeled/summary-docs')\n",
    "summary_meta = fileio.read_json_lines('/home/SMRT-labeled/summary-meta-relabel')"
   ]
  },
  {
   "cell_type": "code",
   "execution_count": 3,
   "metadata": {
    "collapsed": false
   },
   "outputs": [],
   "source": [
    "text = [t for t in summary_docs]\n",
    "meta = [m for m in summary_meta][0]\n",
    "\n",
    "corpus_train = Corpus('en', texts = text, metadatas = meta)"
   ]
  },
  {
   "cell_type": "code",
   "execution_count": 4,
   "metadata": {
    "collapsed": false
   },
   "outputs": [
    {
     "name": "stdout",
     "output_type": "stream",
     "text": [
      "Category smrt corporate\n",
      "Topic corporate & financials\n",
      "Tonality neutral\n"
     ]
    }
   ],
   "source": [
    "for k in meta[0]:\n",
    "    print k, meta[0][k]"
   ]
  },
  {
   "cell_type": "code",
   "execution_count": 5,
   "metadata": {
    "collapsed": false
   },
   "outputs": [],
   "source": [
    "topiclist = [t['Topic'] for t in meta]"
   ]
  },
  {
   "cell_type": "code",
   "execution_count": 6,
   "metadata": {
    "collapsed": false
   },
   "outputs": [
    {
     "data": {
      "text/plain": [
       "Counter({u'commuter behaviour': 16,\n",
       "         u'corporate & financials': 102,\n",
       "         u'corporate social responsibility': 12,\n",
       "         u'crisis': 64,\n",
       "         u'csr': 40,\n",
       "         u'customer satisfaction': 5,\n",
       "         u'customer service': 16,\n",
       "         u'delay/disruption': 234,\n",
       "         u'facilities': 24,\n",
       "         u'facilities & services': 264,\n",
       "         u'fares': 13,\n",
       "         u'financials': 42,\n",
       "         u'fines': 3,\n",
       "         u'general / others': 153,\n",
       "         u'labour': 31,\n",
       "         u'labour & union': 101,\n",
       "         u'rail & engineering': 264,\n",
       "         u'regulations': 23,\n",
       "         u'regulations & ops': 25,\n",
       "         u'repair/maintenance': 25,\n",
       "         u'safety/accident': 155,\n",
       "         u'service announcements': 40,\n",
       "         u'service excellence': 37,\n",
       "         u'unknown': 77})"
      ]
     },
     "execution_count": 6,
     "metadata": {},
     "output_type": "execute_result"
    }
   ],
   "source": [
    "from collections import Counter\n",
    "Counter(topiclist)"
   ]
  },
  {
   "cell_type": "code",
   "execution_count": 7,
   "metadata": {
    "collapsed": true
   },
   "outputs": [],
   "source": [
    "#process csr to 'corporate social responsibility'\n",
    "#process customer satisfaction to 'customer service'\n",
    "def replaceTopic(original_v, new_v, meta_v, topiclist):\n",
    "    filter_c = [(i == original_v) for i in topiclist]\n",
    "    c_index = [x[0] for x in zip(range(len(filter_c)), filter_c) if x[1]]\n",
    "    for i in c_index:\n",
    "        meta_v[i]['Topic'] = new_v\n",
    "    return meta_v\n",
    "\n",
    "meta = replaceTopic(u'csr', u'corporate social responsibility', meta, topiclist)\n",
    "meta = replaceTopic(u'customer satisfaction', u'customer service', meta, topiclist)\n",
    "meta = replaceTopic(u'facilities & services', u'facilities', meta, topiclist)\n",
    "meta = replaceTopic(u'labour', u'labour & union', meta, topiclist)"
   ]
  },
  {
   "cell_type": "code",
   "execution_count": 8,
   "metadata": {
    "collapsed": true
   },
   "outputs": [],
   "source": [
    "from textacy import fileio\n",
    "\n",
    "fileio.write_json(meta, '/home/SMRT-labeled/summary-meta-relabel')"
   ]
  }
 ],
 "metadata": {
  "kernelspec": {
   "display_name": "Python 2",
   "language": "python",
   "name": "python2"
  },
  "language_info": {
   "codemirror_mode": {
    "name": "ipython",
    "version": 2
   },
   "file_extension": ".py",
   "mimetype": "text/x-python",
   "name": "python",
   "nbconvert_exporter": "python",
   "pygments_lexer": "ipython2",
   "version": "2.7.9"
  }
 },
 "nbformat": 4,
 "nbformat_minor": 1
}
