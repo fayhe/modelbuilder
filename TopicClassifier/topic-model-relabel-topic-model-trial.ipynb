{
 "cells": [
  {
   "cell_type": "code",
   "execution_count": 1,
   "metadata": {
    "collapsed": false
   },
   "outputs": [],
   "source": [
    "from __future__ import unicode_literals\n",
    "from textacy import fileio, preprocess, extract, Corpus"
   ]
  },
  {
   "cell_type": "code",
   "execution_count": 2,
   "metadata": {
    "collapsed": false
   },
   "outputs": [],
   "source": [
    "summary_docs = fileio.read_file_lines('/home/SMRT-labeled/summary-docs')\n",
    "summary_meta = fileio.read_json_lines('/home/SMRT-labeled/summary-meta')"
   ]
  },
  {
   "cell_type": "code",
   "execution_count": 3,
   "metadata": {
    "collapsed": false
   },
   "outputs": [],
   "source": [
    "text = [t for t in summary_docs]\n",
    "meta = [m for m in summary_meta][0]\n",
    "\n",
    "corpus_train = Corpus('en', texts = text, metadatas = meta)"
   ]
  },
  {
   "cell_type": "code",
   "execution_count": 4,
   "metadata": {
    "collapsed": false
   },
   "outputs": [
    {
     "name": "stdout",
     "output_type": "stream",
     "text": [
      "Category smrt corporate\n",
      "Topic corporate & financials\n",
      "Tonality neutral\n"
     ]
    }
   ],
   "source": [
    "for k in meta[0]:\n",
    "    print k, meta[0][k]"
   ]
  },
  {
   "cell_type": "code",
   "execution_count": 5,
   "metadata": {
    "collapsed": false
   },
   "outputs": [],
   "source": [
    "topiclist = [t['Topic'] for t in meta]"
   ]
  },
  {
   "cell_type": "code",
   "execution_count": 6,
   "metadata": {
    "collapsed": false
   },
   "outputs": [
    {
     "data": {
      "text/plain": [
       "Counter({u'commuter behaviour': 16,\n",
       "         u'corporate & financials': 102,\n",
       "         u'corporate social responsibility': 12,\n",
       "         u'crisis / delays & distributions / accidents / safety': 323,\n",
       "         u'csr': 40,\n",
       "         u'customer satisfaction': 5,\n",
       "         u'customer service': 16,\n",
       "         u'delay/disruption': 85,\n",
       "         u'facilities': 24,\n",
       "         u'facilities & services': 264,\n",
       "         u'fares': 13,\n",
       "         u'financials': 42,\n",
       "         u'fines': 3,\n",
       "         u'general / others': 153,\n",
       "         u'labour': 31,\n",
       "         u'labour & union': 101,\n",
       "         u'rail & engineering': 264,\n",
       "         u'regulations': 23,\n",
       "         u'regulations & ops': 25,\n",
       "         u'repair/maintenance': 25,\n",
       "         u'safety/accident': 45,\n",
       "         u'service announcements': 40,\n",
       "         u'service excellence': 37,\n",
       "         u'unknown': 77})"
      ]
     },
     "execution_count": 6,
     "metadata": {},
     "output_type": "execute_result"
    }
   ],
   "source": [
    "from collections import Counter\n",
    "Counter(topiclist)"
   ]
  },
  {
   "cell_type": "code",
   "execution_count": 7,
   "metadata": {
    "collapsed": false
   },
   "outputs": [],
   "source": [
    "#\n",
    "filter_a = [(i == u'crisis / delays & distributions / accidents / safety') for i in topiclist]\n",
    "filter_b = [(i == u'delay/disruption') for i in topiclist]\n",
    "filter_c = [(i == u'safety/accident') for i in topiclist]\n",
    "\n",
    "filter_combine = map(lambda x:(x[0] or x[1] or x[2]), zip(filter_a, filter_b, filter_c))\n",
    "#filter_combine.count(True)\n",
    "\n",
    "text_train_filter = [x[0] for x in zip(text, filter_combine) if x[1]]\n",
    "meta_train_filter = [x[0] for x in zip(topiclist, filter_combine) if x[1]]"
   ]
  },
  {
   "cell_type": "code",
   "execution_count": 8,
   "metadata": {
    "collapsed": false
   },
   "outputs": [],
   "source": [
    "from textacy import vsm, tm\n",
    "\n",
    "corpus_train_filter = Corpus('en', texts = text_train_filter, metadatas = meta_train_filter)"
   ]
  },
  {
   "cell_type": "code",
   "execution_count": 9,
   "metadata": {
    "collapsed": false
   },
   "outputs": [],
   "source": [
    "#topic model\n",
    "terms_lists = (doc.to_terms_list(ngrams={1, 2}, named_entities=True, as_strings=True) for doc in corpus_train_filter)\n",
    "doc_term_matrix, id2term = vsm.doc_term_matrix(terms_lists, weighting='tfidf', normalize=True, smooth_idf=True, min_df=1, max_df=0.95, max_n_terms=15000)"
   ]
  },
  {
   "cell_type": "code",
   "execution_count": 10,
   "metadata": {
    "collapsed": false
   },
   "outputs": [
    {
     "data": {
      "text/plain": [
       "TopicModel(n_topics=20, model=LatentDirichletAllocation)"
      ]
     },
     "execution_count": 10,
     "metadata": {},
     "output_type": "execute_result"
    }
   ],
   "source": [
    "unsp_topic_model = tm.TopicModel('lda', n_topics=20)\n",
    "unsp_topic_model.fit(doc_term_matrix)\n",
    "unsp_topic_model"
   ]
  },
  {
   "cell_type": "code",
   "execution_count": 11,
   "metadata": {
    "collapsed": false
   },
   "outputs": [
    {
     "name": "stdout",
     "output_type": "stream",
     "text": [
      "(u'topic', 0, u':', u'suspend pending   arrest driver   pending inquiry   driver suspend   bus accident   woman die   luxury   luxury taxi   mount road   affected vehicle')\n",
      "(u'topic', 1, u':', u'door   train   new   smrt   besar   sensor   breakdown   maintenance work   panjang lrt   deepavali')\n",
      "(u'topic', 2, u':', u\"saf   wanbao   saf vehicle   vehicle   collide   involve   today   's death   vehicle collide   bus\")\n",
      "(u'topic', 3, u':', u'singaporeans   10:55pm   today   ho   independence   social lab   elaine ho   lab   research analyst   touchpoint')\n",
      "(u'topic', 4, u':', u'14   bus   oil   oil spill   858   spill   854   lorry   door   wanbao')\n",
      "(u'topic', 5, u':', u'construction site   construction   burn injury   tanjong pagar   tanjong   pagar   site   tanjong pagar centre   pagar centre   left hand')\n",
      "(u'topic', 6, u':', u'750-volt   tecs   site   ngan   9.30am   3-bu   money   build site   pagar build   tg pagar')\n",
      "(u'topic', 7, u':', u'road rage   rage case   rage   jail   st   mr seah   officer   66   abdul   smrt officer')\n",
      "(u'topic', 8, u':', u'control taxi   taxi hit   lost control   lost   plus   bugis plus   harper   vandalism   vandalism report   australian authorities')\n",
      "(u'topic', 9, u':', u'ntuc   union   chan   sing say   trades   trades union   union congress   congress   national trades union congress   national trades')\n",
      "(u'topic', 10, u':', u'damage   95   boy   seek damage   sue   behalf   sue smrt   today   crossing   seek')\n",
      "(u'topic', 11, u':', u'smrt   taxi   bus   lta   airport   head   boy   crossing   commuter   wed')\n",
      "(u'topic', 12, u':', u\"lose foot   bus accident   driver jail   's injury   bear 95   95 %   bear   95   blame   cleverly\")\n",
      "(u'topic', 13, u':', u\"drunken   station manager   16 month   probation   16 month '   manager   16   punch   push   manager give\")\n",
      "(u'topic', 14, u':', u'smrt   train   service   bus   say   station   mrt   line   yesterday   fault')\n",
      "(u'topic', 15, u':', u'qingdao   crack   hairline   hairline crack   pose   china   st   safety risk   body replace   japan')\n",
      "(u'topic', 16, u':', u'smrt   saf   mindef   sdp   w line   mandai   st   morning   2013   mandai crematorium')\n",
      "(u'topic', 17, u':', u'wb   grabcar   interviewee   impression   quek   shen   train crack   303   khaw explain   explain decision')\n",
      "(u'topic', 18, u':', u'1   zaobao   protective measure   team enter   adopt protective   protective   cause 1   1 injure   mirror hit   old couple')\n",
      "(u'topic', 19, u':', u'2-hour   st   ineffective   wanbao   escalator   mrt disruption   orchard   nissan   s$120,000   fin s$120,000')\n"
     ]
    }
   ],
   "source": [
    "doc_topic_matrix = unsp_topic_model.transform(doc_term_matrix)\n",
    "for topic_idx, top_terms in unsp_topic_model.top_topic_terms(id2term, topics=range(20)):\n",
    "    print('topic', topic_idx, ':', '   '.join(top_terms))"
   ]
  },
  {
   "cell_type": "code",
   "execution_count": 12,
   "metadata": {
    "collapsed": false
   },
   "outputs": [],
   "source": [
    "doc2topic = unsp_topic_model.get_doc_topic_matrix(doc_term_matrix, normalize=True)\n",
    "doc2topic_index = [i.argmax() for i in doc2topic]"
   ]
  },
  {
   "cell_type": "code",
   "execution_count": 13,
   "metadata": {
    "collapsed": false
   },
   "outputs": [
    {
     "data": {
      "text/plain": [
       "Counter({(0, u'crisis / delays & distributions / accidents / safety'): 2,\n",
       "         (2, u'crisis / delays & distributions / accidents / safety'): 8,\n",
       "         (2, u'delay/disruption'): 1,\n",
       "         (3, u'delay/disruption'): 2,\n",
       "         (4, u'crisis / delays & distributions / accidents / safety'): 14,\n",
       "         (4, u'safety/accident'): 2,\n",
       "         (5, u'crisis / delays & distributions / accidents / safety'): 5,\n",
       "         (5, u'safety/accident'): 1,\n",
       "         (6, u'crisis / delays & distributions / accidents / safety'): 5,\n",
       "         (6, u'safety/accident'): 1,\n",
       "         (7, u'crisis / delays & distributions / accidents / safety'): 6,\n",
       "         (8, u'crisis / delays & distributions / accidents / safety'): 1,\n",
       "         (9, u'crisis / delays & distributions / accidents / safety'): 3,\n",
       "         (9, u'safety/accident'): 1,\n",
       "         (10, u'crisis / delays & distributions / accidents / safety'): 8,\n",
       "         (10, u'safety/accident'): 2,\n",
       "         (12, u'crisis / delays & distributions / accidents / safety'): 1,\n",
       "         (12, u'delay/disruption'): 1,\n",
       "         (13, u'crisis / delays & distributions / accidents / safety'): 4,\n",
       "         (14, u'crisis / delays & distributions / accidents / safety'): 247,\n",
       "         (14, u'delay/disruption'): 79,\n",
       "         (14, u'safety/accident'): 36,\n",
       "         (15, u'crisis / delays & distributions / accidents / safety'): 3,\n",
       "         (17, u'crisis / delays & distributions / accidents / safety'): 3,\n",
       "         (17, u'delay/disruption'): 2,\n",
       "         (18, u'crisis / delays & distributions / accidents / safety'): 1,\n",
       "         (19, u'crisis / delays & distributions / accidents / safety'): 12,\n",
       "         (19, u'safety/accident'): 2})"
      ]
     },
     "execution_count": 13,
     "metadata": {},
     "output_type": "execute_result"
    }
   ],
   "source": [
    "Counter(zip(doc2topic_index, meta_train_filter))"
   ]
  },
  {
   "cell_type": "code",
   "execution_count": 14,
   "metadata": {
    "collapsed": false
   },
   "outputs": [
    {
     "data": {
      "text/plain": [
       "[u'A massive operation was mounted to clean up and repave part of Bukit Timah Expressway after an oil spill due to an accident affected many bus services from the SMRT Woodlands bus interchange yesterday morning. SMRT said the bus services affected are: 178, 187, 858, 911, 913, 925, 950, 960, 961, 963 and 966. The SCDF said initial on-site investigations did not identify any oil spillage. But three hours later at 6.07am, it received another call, this time about a resulting oil spill from the accident, and dispatched two fire engines.\\n',\n",
       " u'A 29-year-old woman died after being struck by an SBS Transit bus in Toh Tuck Avenue on Thursday afternoon. Ms Winny Pratiwi was believed to be out for lunch when the accident happened at around 12.30pm. A 64-year-old bus driver was arrested for allegedly causing death by a rash act, said the police. The recent accidents involving buses follow one that took place about two months ago, when an SMRT bus hit the back of another SMRT bus at a Lentor Avenue bus stop. Fourteen passengers were hurt.\\n',\n",
       " u'3 heavy vehicles including a SMRT bender bus, a truck and a lorry had a collision at the junction of Yishun Ave 1 and Ave 2 in front of The Estuary, at about 4pm on Sun. The accident took up three lanes, and the 49-year-old lorry driver and 49-year-old lorry passenger were sent to the hospital for treatment while in a conscious state. A police spokesman said investigations on the accident are still ongoing.\\n',\n",
       " u\"Same as Wanbao 'Opening of door during ride was caused by design flaw'\\n\",\n",
       " u\"Same as ST 'LRT train door mishap exposes design flaw'.\\n\",\n",
       " u'A massive operation was mounted to clean up and repave part of Bukit Timah Expressway after an oil spill due to an accident affected many bus services from the SMRT Woodlands bus interchange yesterday morning. The SCDF said initial on-site investigations did not identify any oil spillage. But three hours later at 6.07am, it received another call, this time about a resulting oil spill from the accident, and dispatched two fire engines.\\n',\n",
       " u\"Same as Wanbao '14 were injured and sent to hospital during a bus collision'\\n\",\n",
       " u'NUS Professor of Civil Engineering Lee De Hong explained that it is difficult to recruit people into the traffic industry, and that should business owners skimp on safety procedures, many more will be deterred from joining. This was after SMRT conducted investigations on the incident where a train caused the death of 2 junior engineers who went down onto the track.\\n',\n",
       " u\"Same as ST 'Massive cleanup and jam after BKE oil spill' SMRT said the bus services affected are: 178, 187, 858, 911, 913, 925, 950, 960, 961, 963 and 966.\\n\",\n",
       " u'A massive 12-hour operation was mounted to clean up and repave part of Bukit Timah Expressway after an oil spill which caused southbound traffic to grind to a halt through much of the morning. The congestion even held up more than 10 bus services departing from the Woodlands Regional Bus Interchange for more than two hours.\\n',\n",
       " u\"Same as ST 'Massive cleanup and jam after BKE oil spill'\\n\",\n",
       " u'An oil spill on the eastbound Pan Island Expressway (PIE), after the Jurong Town Hall Road exit, resulted in two lanes being closed off to traffic for around four hours on Monday afternoon. SMRT reported that the jam stretched back to Woodlands Avenues 1, 2 and 3, had caused buses to be stuck at Woodlands Regional Bus Interchange. A 12-hour clean-up and road repaving operation was needed to clear up the accident spot.\\n',\n",
       " u'A serious oil spill on the Bukit Timah Expressway caused a massive traffic jam on Friday, and affected 11 bus services at SMRTs Woodlands bus interchange. SMRT said the bus services affected are: 178, 187, 858, 911, 913, 925, 950, 960, 961, 963 and 966.\\n',\n",
       " u'A 29-year-old woman died after being struck by an SBS Transit bus in Toh Tuck Avenue on Thursday afternoon. The accident happened at around 12.30pm near the bus stop in front of the SMRT depot at Toh Tuck Avenue. A 64-year-old bus driver was arrested for allegedly causing death by a rash act, said the police. The recent accidents involving buses follow one that took place about two months ago, when an SMRT bus hit the back of another SMRT bus at a Lentor Avenue bus stop. Fourteen passengers were hurt.\\n',\n",
       " u'The door of a lorry was stuck between the automatic door of a SMRT bus, and both vehicles ended up getting stranded. This incident occurred outside Ngee Ann City on Jan 8.Some speculated that the bus was travelling on the road, and the lorry was parked at the side of the same road when the incident occurred.\\n',\n",
       " u'A 45-year-old woman complained to The New Paper that she took SMRT bus service 812 near Yishun SAFRA on Jan 4. As she was preparing to get off the bus, she stood up and held onto a railing. The bus suddenly braked twice, and she fell, fracturing her arm. She ended up receiving 15 stitches. She lodged a police report at a police station the next day after she was discharged. A police spokesman said investigations are ongoing, and the woman is appealing for information on the incident\\n']"
      ]
     },
     "execution_count": 14,
     "metadata": {},
     "output_type": "execute_result"
    }
   ],
   "source": [
    "#review raw text for each 'unsp-topic'\n",
    "index_unsp_topic_i = [x[0] for x in zip(range(len(doc2topic_index)), doc2topic_index) if x[1] == 4]\n",
    "[text_train_filter[x] for x in index_unsp_topic_i]"
   ]
  }
 ],
 "metadata": {
  "anaconda-cloud": {},
  "kernelspec": {
   "display_name": "Python [default]",
   "language": "python",
   "name": "python2"
  },
  "language_info": {
   "codemirror_mode": {
    "name": "ipython",
    "version": 2
   },
   "file_extension": ".py",
   "mimetype": "text/x-python",
   "name": "python",
   "nbconvert_exporter": "python",
   "pygments_lexer": "ipython2",
   "version": "2.7.12"
  }
 },
 "nbformat": 4,
 "nbformat_minor": 1
}
