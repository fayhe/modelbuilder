{
 "cells": [
  {
   "cell_type": "code",
   "execution_count": 1,
   "metadata": {
    "collapsed": false
   },
   "outputs": [],
   "source": [
    "from __future__ import unicode_literals\n",
    "from textacy import fileio, preprocess, extract, Corpus"
   ]
  },
  {
   "cell_type": "code",
   "execution_count": 2,
   "metadata": {
    "collapsed": false
   },
   "outputs": [],
   "source": [
    "summary_docs = fileio.read_file_lines('/home/SMRT-labeled/summary-docs')\n",
    "summary_meta = fileio.read_json_lines('/home/SMRT-labeled/summary-meta-relabel')"
   ]
  },
  {
   "cell_type": "code",
   "execution_count": 3,
   "metadata": {
    "collapsed": false
   },
   "outputs": [],
   "source": [
    "text = [t for t in summary_docs]\n",
    "meta = [m for m in summary_meta][0]\n",
    "\n",
    "corpus_train = Corpus('en', texts = text, metadatas = meta)"
   ]
  },
  {
   "cell_type": "code",
   "execution_count": 4,
   "metadata": {
    "collapsed": false
   },
   "outputs": [
    {
     "name": "stdout",
     "output_type": "stream",
     "text": [
      "Category smrt corporate\n",
      "Topic corporate\n",
      "Tonality neutral\n"
     ]
    }
   ],
   "source": [
    "for k in meta[0]:\n",
    "    print k, meta[0][k]"
   ]
  },
  {
   "cell_type": "code",
   "execution_count": 5,
   "metadata": {
    "collapsed": false
   },
   "outputs": [],
   "source": [
    "topiclist = [t['Topic'] for t in meta]"
   ]
  },
  {
   "cell_type": "code",
   "execution_count": 6,
   "metadata": {
    "collapsed": false
   },
   "outputs": [
    {
     "data": {
      "text/plain": [
       "Counter({u'commuter behaviour': 16,\n",
       "         u'corporate': 34,\n",
       "         u'corporate social responsibility': 52,\n",
       "         u'crisis': 64,\n",
       "         u'customer service': 21,\n",
       "         u'delay/disruption': 234,\n",
       "         u'facilities': 288,\n",
       "         u'fares': 13,\n",
       "         u'financials': 110,\n",
       "         u'fines': 3,\n",
       "         u'general / others': 153,\n",
       "         u'labour & union': 132,\n",
       "         u'operations': 11,\n",
       "         u'rail & engineering': 264,\n",
       "         u'regulations': 37,\n",
       "         u'repair/maintenance': 25,\n",
       "         u'safety/accident': 155,\n",
       "         u'service announcements': 40,\n",
       "         u'service excellence': 37,\n",
       "         u'unknown': 77})"
      ]
     },
     "execution_count": 6,
     "metadata": {},
     "output_type": "execute_result"
    }
   ],
   "source": [
    "from collections import Counter\n",
    "Counter(topiclist)"
   ]
  },
  {
   "cell_type": "code",
   "execution_count": 11,
   "metadata": {
    "collapsed": false
   },
   "outputs": [],
   "source": [
    "#check some text\n",
    "text_filter = [x[0] for x in zip(text, topiclist) if x[1] == u'operations']"
   ]
  },
  {
   "cell_type": "code",
   "execution_count": 12,
   "metadata": {
    "collapsed": false
   },
   "outputs": [
    {
     "data": {
      "text/plain": [
       "[u\"The drastic drop in oil prices last year has resulted in a fall in energy index by 15.3% and led to the downward revision of local transport fares. Starting 27 Dec this year, 2 million passengers will pay less as bus and train fares will revise downwards by up to 1.9% with a saving of 19 cents per S$10 spent. The reduction is the maximum 1.9 per cent allowed in a fare formula that weighs inflation, wages and fuel or energy prices. It will impact SBS Transit's revenue by $15.7 million, and SMRT's by $20.4 million.\\n\",\n",
       " u\"Same as ST 'Cab firms hit by higher operating licence fees'\\n\",\n",
       " u\"ComfortDelGro will join other cab operators in levying a surcharge when there are more than four passengers in a limousine taxi. From next Monday, ComfortDelGro's seven-seater MaxiCabs will have an additional fee of $3 per person, for the fifth, sixth and seventh passenger. The fee, however, will not apply to flat-rate transfer services. ComfortDelGro, which reportedly has a fleet of close to 160 MaxiCabs, did not respond to queries about why it decided to implement this surcharge now.\\n\",\n",
       " u\"Same as Zaobao 'Taxi rental rates fell to a new low'\\n\",\n",
       " u'The Land Transport Authority (LTA) has told Taxi operators that their operating licence fee will rise from 0.1 per cent of gross revenue to 0.2 per cent this year, and then to 0.3 per cent next year. This is the first such increase in more than 10 years. For a mid-sized operator such as SMRT, the fee hike translates to more than $100,000 in additional costs per year. Based on its taxi revenue for the past two financial years, its fee would go up from an estimated $140,000 to $420,000 next year, assuming revenue remains constant. The Straits Times understands that the fee hike has to do with higher costs associated with monitoring taxi service standards.\\n',\n",
       " u\"Same as Wanbao 'MRT and bus fares might lower as high as 1.9%'\\n\",\n",
       " u\"Same as ST 'Lower bus, train fares from Dec 27 after latest review'\\n\",\n",
       " u\"Bus and train fares will drop by up to four cents per journey from Dec 27, the Public Transport Council (PTC) announced yesterday after its latest annual review. The adjustment, which takes into account last year's drop in energy prices, is timed to coincide with the opening of Downtown Line 2, and is four months earlier than usual. The reduction is the maximum 1.9 per cent allowed in a fare formula that weighs inflation, wages and fuel or energy prices. It will impact SBS Transit's revenue by $15.7 million, and SMRT's by $20.4 million.\\n\",\n",
       " u\"Same as Wanbao '2 million passengers will pay lesser due to downward revision of bus and train fare from 27 Dec'\\n\",\n",
       " u\"Bus and train card fares will drop by 1 to 4 cents a journey from Dec 27, the Public Transport Council (PTC) announced on Friday after its latest annual review. The reduction amounts to a maximum 1.9 per cent cut allowed in a fare formula that weighs inflation, wage increase and fuel or energy prices. It will impact SBS Transit's revenue by $15.7 million, and SMRT's by $20.4 million.\\n\",\n",
       " u\"Bus and train card fares will drop by up to four cents a journey from Dec 27, the Public Transport Council (PTC) announced on Friday after its latest annual review. The adjustment, which takes into account last year's drop in oil prices, is timed to coincide with the opening of Downtown Line 2, and is four months earlier than usual. The reduction amounts to a maximum 1.9 per cent cut allowed in a fare formula that weighs inflation, wage increase and fuel or energy prices. It will impact SBS Transit's revenue by $15.7 million, and SMRT's by $20.4 million.\\n\"]"
      ]
     },
     "execution_count": 12,
     "metadata": {},
     "output_type": "execute_result"
    }
   ],
   "source": [
    "text_filter"
   ]
  }
 ],
 "metadata": {
  "kernelspec": {
   "display_name": "Python 2",
   "language": "python",
   "name": "python2"
  },
  "language_info": {
   "codemirror_mode": {
    "name": "ipython",
    "version": 2
   },
   "file_extension": ".py",
   "mimetype": "text/x-python",
   "name": "python",
   "nbconvert_exporter": "python",
   "pygments_lexer": "ipython2",
   "version": "2.7.9"
  }
 },
 "nbformat": 4,
 "nbformat_minor": 1
}
