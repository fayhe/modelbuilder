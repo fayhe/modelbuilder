{
 "cells": [
  {
   "cell_type": "code",
   "execution_count": 1,
   "metadata": {
    "collapsed": false
   },
   "outputs": [],
   "source": [
    "from __future__ import unicode_literals\n",
    "from textacy import fileio, preprocess, extract, Corpus"
   ]
  },
  {
   "cell_type": "code",
   "execution_count": 2,
   "metadata": {
    "collapsed": false
   },
   "outputs": [],
   "source": [
    "summary_docs = fileio.read_file_lines('/home/SMRT-labeled/summary-docs')\n",
    "summary_meta = fileio.read_json_lines('/home/SMRT-labeled/summary-meta')"
   ]
  },
  {
   "cell_type": "code",
   "execution_count": 3,
   "metadata": {
    "collapsed": false
   },
   "outputs": [
    {
     "name": "stdout",
     "output_type": "stream",
     "text": [
      "(1766, 1766)\n"
     ]
    }
   ],
   "source": [
    "text = [t for t in summary_docs]\n",
    "meta = [m for m in summary_meta][0]\n",
    "\n",
    "print(len(text), len(meta))"
   ]
  },
  {
   "cell_type": "code",
   "execution_count": 4,
   "metadata": {
    "collapsed": false
   },
   "outputs": [
    {
     "name": "stdout",
     "output_type": "stream",
     "text": [
      "Category smrt corporate\n",
      "Topic corporate & financials\n",
      "Tonality neutral\n"
     ]
    }
   ],
   "source": [
    "for k in meta[0]:\n",
    "    print k, meta[0][k]"
   ]
  },
  {
   "cell_type": "code",
   "execution_count": 5,
   "metadata": {
    "collapsed": false
   },
   "outputs": [],
   "source": [
    "#load lable data\n",
    "label_key = u'Category'\n",
    "\n",
    "label_list = map(lambda x:x[label_key], meta)"
   ]
  },
  {
   "cell_type": "code",
   "execution_count": 6,
   "metadata": {
    "collapsed": false
   },
   "outputs": [
    {
     "data": {
      "text/plain": [
       "Counter({u'competitors': 1,\n",
       "         u'forum': 66,\n",
       "         u'overseas news': 1,\n",
       "         u'public transport industry': 2,\n",
       "         u'smrt buses': 368,\n",
       "         u'smrt corporate': 533,\n",
       "         u'smrt taxis': 77,\n",
       "         u'smrt trains': 673,\n",
       "         u'taxi': 32,\n",
       "         u'unknown': 13})"
      ]
     },
     "execution_count": 6,
     "metadata": {},
     "output_type": "execute_result"
    }
   ],
   "source": [
    "import collections\n",
    "\n",
    "collections.Counter(label_list)"
   ]
  },
  {
   "cell_type": "code",
   "execution_count": 7,
   "metadata": {
    "collapsed": false
   },
   "outputs": [
    {
     "name": "stdout",
     "output_type": "stream",
     "text": [
      "(1428, 1428)\n"
     ]
    }
   ],
   "source": [
    "#re-label: step 1 -- remove 'forum' and text including 'Same as'\n",
    "text = [x[0] for x in zip(text, label_list) if ((x[1] != u'forum') and (x[1] != u'unknown'))]\n",
    "label_list = [x for x in label_list if ((x != u'forum') and (x != u'unknown'))]\n",
    "\n",
    "def textStartWith(wds):\n",
    "    if((wds.find(\"Same as\")) > -1):\n",
    "        return True\n",
    "    else:\n",
    "        return False\n",
    "\n",
    "maskKeyword = map(textStartWith, text)\n",
    "text = [x[1] for x in zip(maskKeyword, text) if(not x[0])]\n",
    "label_list = [x[1] for x in zip(maskKeyword, label_list) if(not x[0])]\n",
    "\n",
    "print(len(text), len(label_list))"
   ]
  },
  {
   "cell_type": "code",
   "execution_count": 8,
   "metadata": {
    "collapsed": false
   },
   "outputs": [
    {
     "data": {
      "text/plain": [
       "Counter({u'buses': 43,\n",
       "         u'competitors': 1,\n",
       "         u'overseas news': 1,\n",
       "         u'public transport industry': 35,\n",
       "         u'smrt buses': 265,\n",
       "         u'smrt corporate': 427,\n",
       "         u'smrt taxis': 62,\n",
       "         u'smrt trains': 474,\n",
       "         u'taxi': 32,\n",
       "         u'trains': 88})"
      ]
     },
     "execution_count": 8,
     "metadata": {},
     "output_type": "execute_result"
    }
   ],
   "source": [
    "#re-label:step 2 -- filter 'smrt x' into 'x' and 'smrt x'\n",
    "def filterKeywords(wds):\n",
    "    if((wds.find(\"smrt\") > -1) or (wds.find(\"SMRT\")>-1)):\n",
    "        return True\n",
    "    return False\n",
    "\n",
    "maskKeyword = map(filterKeywords, text)\n",
    "label_list = [u'trains' if ((not x[0]) and (x[1] == u'smrt trains')) else x[1] for x in zip(maskKeyword, label_list)] \n",
    "label_list = [u'buses' if ((not x[0]) and (x[1] == u'smrt buses')) else x[1] for x in zip(maskKeyword, label_list)]\n",
    "label_list = [u'public transport industry' if ((not x[0]) and (x[1] == u'smrt corporate')) else x[1] for x in zip(maskKeyword, label_list)]\n",
    "\n",
    "collections.Counter(label_list)"
   ]
  },
  {
   "cell_type": "code",
   "execution_count": 9,
   "metadata": {
    "collapsed": true
   },
   "outputs": [],
   "source": [
    "unique_label = list(set(label_list))\n",
    "label2id = dict(zip(unique_label, range(len(unique_label))))\n",
    "label_id = map(lambda x:label2id[x], label_list)\n",
    "\n",
    "corpus_train = Corpus('en', texts = text)"
   ]
  },
  {
   "cell_type": "code",
   "execution_count": 10,
   "metadata": {
    "collapsed": false
   },
   "outputs": [
    {
     "name": "stderr",
     "output_type": "stream",
     "text": [
      "/usr/local/lib/python2.7/dist-packages/sklearn/utils/validation.py:429: DataConversionWarning: Data with input dtype int64 was converted to float64 by the normalize function.\n",
      "  warnings.warn(msg, _DataConversionWarning)\n"
     ]
    }
   ],
   "source": [
    "#topic model\n",
    "from textacy import vsm\n",
    "\n",
    "terms_lists = (doc.to_terms_list(ngrams={2, 3}, named_entities=True, as_strings=True) for doc in corpus_train)\n",
    "doc_term_matrix, id2term = vsm.doc_term_matrix(terms_lists, weighting='tf', normalize=True, smooth_idf=True, min_df=2, max_df=0.95, max_n_terms=15000)"
   ]
  },
  {
   "cell_type": "code",
   "execution_count": 11,
   "metadata": {
    "collapsed": false
   },
   "outputs": [
    {
     "data": {
      "text/plain": [
       "<1428x9857 sparse matrix of type '<type 'numpy.float64'>'\n",
       "\twith 42673 stored elements in Compressed Sparse Row format>"
      ]
     },
     "execution_count": 11,
     "metadata": {},
     "output_type": "execute_result"
    }
   ],
   "source": [
    "doc_term_matrix"
   ]
  },
  {
   "cell_type": "code",
   "execution_count": 12,
   "metadata": {
    "collapsed": false
   },
   "outputs": [],
   "source": [
    "#MLPClassifier requires sklearn >=0.18\n",
    "#classifier\n",
    "#from sklearn.neural_network import MLPClassifier\n",
    "#regression\n",
    "from sklearn.neural_network import MLPRegressor\n",
    "#use sknn instead\n",
    "#from sknn.mlp import Classifier, Layer\n",
    "import numpy as np\n",
    "\n",
    "def id2array(id, a_len):\n",
    "    result = np.zeros(a_len)\n",
    "    result[id] = 1\n",
    "    return result\n",
    "\n",
    "labeltype = len(label2id.keys())\n",
    "\n",
    "msg_x = doc_term_matrix.toarray()\n",
    "msg_y = np.array([id2array(x, labeltype) for x in label_id])"
   ]
  },
  {
   "cell_type": "code",
   "execution_count": 13,
   "metadata": {
    "collapsed": false
   },
   "outputs": [
    {
     "data": {
      "text/plain": [
       "MLPRegressor(activation=u'logistic', alpha=1e-05, batch_size=20, beta_1=0.9,\n",
       "       beta_2=0.999, early_stopping=False, epsilon=1e-08,\n",
       "       hidden_layer_sizes=(500, 120), learning_rate='constant',\n",
       "       learning_rate_init=0.001, max_iter=200, momentum=0.9,\n",
       "       nesterovs_momentum=True, power_t=0.5, random_state=1, shuffle=True,\n",
       "       solver=u'adam', tol=0.0001, validation_fraction=0.1, verbose=False,\n",
       "       warm_start=False)"
      ]
     },
     "execution_count": 13,
     "metadata": {},
     "output_type": "execute_result"
    }
   ],
   "source": [
    "clf = MLPRegressor(activation='logistic', solver='adam', alpha=1e-5, batch_size=20, hidden_layer_sizes=(500, 120), random_state=1)\n",
    "clf.fit(msg_x, msg_y)"
   ]
  },
  {
   "cell_type": "code",
   "execution_count": 14,
   "metadata": {
    "collapsed": false
   },
   "outputs": [
    {
     "data": {
      "text/plain": [
       "0.97842184167775381"
      ]
     },
     "execution_count": 14,
     "metadata": {},
     "output_type": "execute_result"
    }
   ],
   "source": [
    "clf.score(msg_x, msg_y)"
   ]
  },
  {
   "cell_type": "code",
   "execution_count": 15,
   "metadata": {
    "collapsed": false
   },
   "outputs": [],
   "source": [
    "#save model\n",
    "from sklearn.externals import joblib\n",
    "\n",
    "savefiles = joblib.dump(clf, '/home/pretrain-model/category-ann-reg.pkl') \n",
    "\n",
    "#save meta\n",
    "fileio.write_json(label2id, '/home/pretrain-model/category-label2id-ann-reg')\n",
    "fileio.write_json(id2term, '/home/pretrain-model/category-id2term-ann-reg')"
   ]
  }
 ],
 "metadata": {
  "anaconda-cloud": {},
  "kernelspec": {
   "display_name": "Python [default]",
   "language": "python",
   "name": "python2"
  },
  "language_info": {
   "codemirror_mode": {
    "name": "ipython",
    "version": 2
   },
   "file_extension": ".py",
   "mimetype": "text/x-python",
   "name": "python",
   "nbconvert_exporter": "python",
   "pygments_lexer": "ipython2",
   "version": "2.7.12"
  }
 },
 "nbformat": 4,
 "nbformat_minor": 1
}
