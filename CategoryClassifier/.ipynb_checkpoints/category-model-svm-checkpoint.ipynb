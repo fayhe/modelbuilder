{
 "cells": [
  {
   "cell_type": "code",
   "execution_count": 1,
   "metadata": {
    "collapsed": false
   },
   "outputs": [],
   "source": [
    "from __future__ import unicode_literals\n",
    "from textacy import fileio, preprocess, extract, Corpus"
   ]
  },
  {
   "cell_type": "code",
   "execution_count": 2,
   "metadata": {
    "collapsed": false
   },
   "outputs": [],
   "source": [
    "summary_docs = fileio.read_file_lines('/home/SMRT-labeled/summary-docs')\n",
    "summary_meta = fileio.read_json_lines('/home/SMRT-labeled/summary-meta')"
   ]
  },
  {
   "cell_type": "code",
   "execution_count": 3,
   "metadata": {
    "collapsed": false
   },
   "outputs": [],
   "source": [
    "text = [t for t in summary_docs]\n",
    "meta = [m for m in summary_meta][0]\n",
    "\n",
    "corpus_train = Corpus('en', texts = text, metadatas = meta)"
   ]
  },
  {
   "cell_type": "code",
   "execution_count": 4,
   "metadata": {
    "collapsed": false
   },
   "outputs": [
    {
     "ename": "AttributeError",
     "evalue": "'Corpus' object has no attribute 'to_bag_of_terms'",
     "output_type": "error",
     "traceback": [
      "\u001b[0;31m---------------------------------------------------------------------------\u001b[0m",
      "\u001b[0;31mAttributeError\u001b[0m                            Traceback (most recent call last)",
      "\u001b[0;32m<ipython-input-4-5bd4c8803c7e>\u001b[0m in \u001b[0;36m<module>\u001b[0;34m()\u001b[0m\n\u001b[0;32m----> 1\u001b[0;31m \u001b[0mbot\u001b[0m \u001b[0;34m=\u001b[0m \u001b[0mcorpus_train\u001b[0m\u001b[0;34m.\u001b[0m\u001b[0mto_bag_of_terms\u001b[0m\u001b[0;34m(\u001b[0m\u001b[0mngrams\u001b[0m\u001b[0;34m=\u001b[0m\u001b[0;34m{\u001b[0m\u001b[0;36m3\u001b[0m\u001b[0;34m}\u001b[0m\u001b[0;34m,\u001b[0m \u001b[0mlemmatize\u001b[0m\u001b[0;34m=\u001b[0m\u001b[0mTrue\u001b[0m\u001b[0;34m,\u001b[0m \u001b[0mas_strings\u001b[0m\u001b[0;34m=\u001b[0m\u001b[0mTrue\u001b[0m\u001b[0;34m,\u001b[0m \u001b[0mfilter_punct\u001b[0m\u001b[0;34m=\u001b[0m\u001b[0mTrue\u001b[0m\u001b[0;34m,\u001b[0m \u001b[0mmin_freq\u001b[0m\u001b[0;34m=\u001b[0m\u001b[0;36m5\u001b[0m\u001b[0;34m)\u001b[0m\u001b[0;34m\u001b[0m\u001b[0m\n\u001b[0m",
      "\u001b[0;31mAttributeError\u001b[0m: 'Corpus' object has no attribute 'to_bag_of_terms'"
     ]
    }
   ],
   "source": [
    "#bot = corpus_train.to_bag_of_terms(ngrams={3}, lemmatize=True, as_strings=True, filter_punct=True, min_freq=5)"
   ]
  },
  {
   "cell_type": "code",
   "execution_count": 4,
   "metadata": {
    "collapsed": false
   },
   "outputs": [
    {
     "name": "stdout",
     "output_type": "stream",
     "text": [
      "Category smrt corporate\n",
      "Topic corporate & financials\n",
      "Tonality neutral\n"
     ]
    }
   ],
   "source": [
    "for k in meta[0]:\n",
    "    print k, meta[0][k]"
   ]
  },
  {
   "cell_type": "code",
   "execution_count": 5,
   "metadata": {
    "collapsed": false
   },
   "outputs": [],
   "source": [
    "#topic model\n",
    "from textacy import vsm\n",
    "\n",
    "terms_lists = (doc.to_terms_list(ngrams={2, 3}, named_entities=True, as_strings=True) for doc in corpus_train)\n",
    "doc_term_matrix, id2term = vsm.doc_term_matrix(terms_lists, weighting='tfidf', normalize=True, smooth_idf=True, min_df=3, max_df=0.99, max_n_terms=15000)"
   ]
  },
  {
   "cell_type": "code",
   "execution_count": null,
   "metadata": {
    "collapsed": true
   },
   "outputs": [],
   "source": [
    "id2"
   ]
  },
  {
   "cell_type": "code",
   "execution_count": 6,
   "metadata": {
    "collapsed": false
   },
   "outputs": [],
   "source": [
    "#load lable data\n",
    "label_key = u'Category'\n",
    "\n",
    "label_list = map(lambda x:x[label_key], meta)\n",
    "unique_label = list(set(label_list))\n",
    "label2id = dict(zip(unique_label, range(len(unique_label))))\n",
    "label_id = map(lambda x:label2id[x], label_list)"
   ]
  },
  {
   "cell_type": "code",
   "execution_count": 7,
   "metadata": {
    "collapsed": false
   },
   "outputs": [
    {
     "data": {
      "text/plain": [
       "<1766x4613 sparse matrix of type '<type 'numpy.float64'>'\n",
       "\twith 34417 stored elements in Compressed Sparse Row format>"
      ]
     },
     "execution_count": 7,
     "metadata": {},
     "output_type": "execute_result"
    }
   ],
   "source": [
    "doc_term_matrix"
   ]
  },
  {
   "cell_type": "code",
   "execution_count": 8,
   "metadata": {
    "collapsed": false
   },
   "outputs": [
    {
     "name": "stdout",
     "output_type": "stream",
     "text": [
      "Accuracy in training set:0.924122310306\n"
     ]
    }
   ],
   "source": [
    "from sklearn.svm import SVC\n",
    "import numpy as np\n",
    "\n",
    "#SVM classifier\n",
    "msg_x = doc_term_matrix.toarray()\n",
    "msg_y = np.array(label_id)\n",
    "\n",
    "msg_model = SVC(kernel=str('linear'))\n",
    "msg_model.fit(msg_x, msg_y)\n",
    "\n",
    "#evaluate the accuracy in training set\n",
    "print(\"Accuracy in training set:\"+ str(msg_model.score(msg_x, msg_y)))"
   ]
  },
  {
   "cell_type": "code",
   "execution_count": 9,
   "metadata": {
    "collapsed": false
   },
   "outputs": [],
   "source": [
    "#save model\n",
    "from sklearn.externals import joblib\n",
    "\n",
    "savefiles = joblib.dump(msg_model, '/home/pretrain-model/category.pkl') \n",
    "\n",
    "#save meta\n",
    "fileio.write_json(label2id, '/home/pretrain-model/category-label2id')\n",
    "fileio.write_json(id2term, '/home/pretrain-model/category-id2term')"
   ]
  }
 ],
 "metadata": {
  "anaconda-cloud": {},
  "kernelspec": {
   "display_name": "Python [default]",
   "language": "python",
   "name": "python2"
  },
  "language_info": {
   "codemirror_mode": {
    "name": "ipython",
    "version": 2
   },
   "file_extension": ".py",
   "mimetype": "text/x-python",
   "name": "python",
   "nbconvert_exporter": "python",
   "pygments_lexer": "ipython2",
   "version": "2.7.12"
  }
 },
 "nbformat": 4,
 "nbformat_minor": 1
}
