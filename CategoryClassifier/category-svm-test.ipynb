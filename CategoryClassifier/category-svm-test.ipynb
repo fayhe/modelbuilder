{
 "cells": [
  {
   "cell_type": "code",
   "execution_count": 1,
   "metadata": {
    "collapsed": true
   },
   "outputs": [],
   "source": [
    "from __future__ import unicode_literals\n",
    "from sklearn.externals import joblib\n",
    "from textacy import fileio, preprocess, Doc, vsm\n",
    "import numpy as np"
   ]
  },
  {
   "cell_type": "code",
   "execution_count": 2,
   "metadata": {
    "collapsed": true
   },
   "outputs": [],
   "source": [
    "msg_model = joblib.load('/home/pretrain-model/category.pkl')\n",
    "id2term_itr = fileio.read_json('/home/pretrain-model/category-id2term')\n",
    "label2id_itr = fileio.read_json('/home/pretrain-model/category-label2id')\n",
    "\n",
    "id2term = [i for i in id2term_itr][0]\n",
    "label2id = [i for i in label2id_itr][0]"
   ]
  },
  {
   "cell_type": "code",
   "execution_count": 3,
   "metadata": {
    "collapsed": false
   },
   "outputs": [],
   "source": [
    "sample_msg = u'Referring to the letters, \"Circle Line train incident: SMRT explains cause and steps taken\" and \"Commuters distressed and kept in the dark\", forum writer Larry Chong Tuck Lai asked several questions regarding the safety of passengers when there is smoke inside the train. These are the questions, assuming a fully packed peak-hour train: How much smoke is needed before the smoke detector is activated and the ventilation system shut? What happens after the ventilation system is shut? How long will the air supply last in a crowded train with no air-conditioning or ventilation and with the presence of smoke in the cabin? While the incident was resolved within five minutes, what happens if we have a case where staff are unable to reach the site of the breakdown for hours, and the system is not restored? What options are available to passengers trapped in the train? Are there manual systems to allow passengers to free themselves, or at least open windows to allow air to flow in?CIC/CMC is working with SMRT Trains to prepare a response.'\n",
    "#sample_msg = u'Taxi operators are taking the fight to Uber and Grab by setting up their own private-hire and limousine arms. The aim is to retain drivers who have begun to defect to the fast-expanding private-hire fleets run by the third-party taxi app providers. SMRT Corp has ordered a fleet of more than 300 new Toyota Vellfire MPVs, Corolla Altis sedans and some Lexus cars for that purpose. Taxi industry players noted that unlike cab companies, the newcomers are not required to meet service standards, their fleet expansion will not be restricted, they do not need to buy insurance policies that cover passengers, there is no restriction on vehicle age, and their cars attract far lower road taxes than cabs. Others said the fast-expanding third-party fleet will eventually impact cabbies\\' earnings as they are competing for a fixed market that is not growing nearly as fast.'"
   ]
  },
  {
   "cell_type": "code",
   "execution_count": 4,
   "metadata": {
    "collapsed": false
   },
   "outputs": [],
   "source": [
    "sample_doc = Doc(sample_msg)"
   ]
  },
  {
   "cell_type": "code",
   "execution_count": 5,
   "metadata": {
    "collapsed": true
   },
   "outputs": [],
   "source": [
    "terms_lists_test = sample_doc.to_terms_list(ngrams={2, 3}, named_entities=True, as_strings=True)"
   ]
  },
  {
   "cell_type": "code",
   "execution_count": 6,
   "metadata": {
    "collapsed": false
   },
   "outputs": [],
   "source": [
    "dtm_test, i2t_test = vsm.doc_term_matrix([terms_lists_test], weighting='tfidf', normalize=True, smooth_idf=True, max_n_terms=100000)"
   ]
  },
  {
   "cell_type": "code",
   "execution_count": 7,
   "metadata": {
    "collapsed": false
   },
   "outputs": [
    {
     "data": {
      "text/plain": [
       "<1x80 sparse matrix of type '<type 'numpy.float64'>'\n",
       "\twith 80 stored elements in Compressed Sparse Row format>"
      ]
     },
     "execution_count": 7,
     "metadata": {},
     "output_type": "execute_result"
    }
   ],
   "source": [
    "dtm_test"
   ]
  },
  {
   "cell_type": "code",
   "execution_count": 8,
   "metadata": {
    "collapsed": true
   },
   "outputs": [],
   "source": [
    "#build new index\n",
    "test2train = dict()\n",
    "for (i, j) in i2t_test.items():\n",
    "    if j in id2term.values():\n",
    "        train_i = id2term.keys()[id2term.values().index(j)]\n",
    "        test2train[i]=train_i"
   ]
  },
  {
   "cell_type": "code",
   "execution_count": 9,
   "metadata": {
    "collapsed": false
   },
   "outputs": [],
   "source": [
    "test_feature = np.zeros((dtm_test.shape[0], len(id2term)))\n",
    "dtm_test_array = dtm_test.toarray()\n",
    "\n",
    "for (i, j) in test2train.items():\n",
    "    test_feature[:, j] = dtm_test_array[:, i]"
   ]
  },
  {
   "cell_type": "code",
   "execution_count": 10,
   "metadata": {
    "collapsed": false
   },
   "outputs": [
    {
     "data": {
      "text/plain": [
       "[(0, u'smrt corporate')]"
      ]
     },
     "execution_count": 10,
     "metadata": {},
     "output_type": "execute_result"
    }
   ],
   "source": [
    "#show the prediction result\n",
    "zip(range(test_feature.shape[0]), map(lambda x: label2id.keys()[label2id.values().index(x)], msg_model.predict(test_feature)))"
   ]
  },
  {
   "cell_type": "code",
   "execution_count": 11,
   "metadata": {
    "collapsed": false
   },
   "outputs": [
    {
     "data": {
      "text/plain": [
       "u\"Taxi operators are taking the fight to Uber and Grab by setting up their own private-hire and limousine arms. The aim is to retain drivers who have begun to defect to the fast-expanding private-hire fleets run by the third-party taxi app providers. SMRT Corp has ordered a fleet of more than 300 new Toyota Vellfire MPVs, Corolla Altis sedans and some Lexus cars for that purpose. Taxi industry players noted that unlike cab companies, the newcomers are not required to meet service standards, their fleet expansion will not be restricted, they do not need to buy insurance policies that cover passengers, there is no restriction on vehicle age, and their cars attract far lower road taxes than cabs. Others said the fast-expanding third-party fleet will eventually impact cabbies' earnings as they are competing for a fixed market that is not growing nearly as fast.\""
      ]
     },
     "execution_count": 11,
     "metadata": {},
     "output_type": "execute_result"
    }
   ],
   "source": [
    "sample_msg"
   ]
  }
 ],
 "metadata": {
  "kernelspec": {
   "display_name": "Python 2",
   "language": "python",
   "name": "python2"
  },
  "language_info": {
   "codemirror_mode": {
    "name": "ipython",
    "version": 2
   },
   "file_extension": ".py",
   "mimetype": "text/x-python",
   "name": "python",
   "nbconvert_exporter": "python",
   "pygments_lexer": "ipython2",
   "version": "2.7.9"
  }
 },
 "nbformat": 4,
 "nbformat_minor": 1
}
