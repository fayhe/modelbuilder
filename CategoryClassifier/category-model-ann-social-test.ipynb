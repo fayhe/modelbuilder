{
 "cells": [
  {
   "cell_type": "code",
   "execution_count": 1,
   "metadata": {
    "collapsed": false
   },
   "outputs": [],
   "source": [
    "from __future__ import unicode_literals\n",
    "from textacy import fileio, preprocess, extract, Corpus\n",
    "import numpy as np"
   ]
  },
  {
   "cell_type": "code",
   "execution_count": 2,
   "metadata": {
    "collapsed": false
   },
   "outputs": [],
   "source": [
    "summary_docs = fileio.read_file_lines('/home/SMRT-labeled/social-docs')\n",
    "summary_meta = fileio.read_json_lines('/home/SMRT-labeled/social-meta')"
   ]
  },
  {
   "cell_type": "code",
   "execution_count": 3,
   "metadata": {
    "collapsed": false
   },
   "outputs": [
    {
     "name": "stdout",
     "output_type": "stream",
     "text": [
      "(1937, 1937)\n"
     ]
    }
   ],
   "source": [
    "text = [t for t in summary_docs]\n",
    "meta = [m for m in summary_meta][0]\n",
    "\n",
    "print(len(text), len(meta))"
   ]
  },
  {
   "cell_type": "code",
   "execution_count": 4,
   "metadata": {
    "collapsed": false
   },
   "outputs": [
    {
     "name": "stdout",
     "output_type": "stream",
     "text": [
      "Category smrt bus\n"
     ]
    }
   ],
   "source": [
    "for k in meta[0]:\n",
    "    print k, meta[0][k]"
   ]
  },
  {
   "cell_type": "code",
   "execution_count": 5,
   "metadata": {
    "collapsed": false
   },
   "outputs": [],
   "source": [
    "#load lable data\n",
    "label_key = u'Category'\n",
    "\n",
    "label_list = map(lambda x:x[label_key], meta)"
   ]
  },
  {
   "cell_type": "code",
   "execution_count": 6,
   "metadata": {
    "collapsed": false
   },
   "outputs": [
    {
     "data": {
      "text/plain": [
       "Counter({u'#ref!': 28,\n",
       "         u'(corporate)': 1,\n",
       "         u'competitor (bus)': 93,\n",
       "         u'competitor (buses)': 1,\n",
       "         u'competitor (taxi)': 33,\n",
       "         u'competitor (taxis)': 1,\n",
       "         u'competitor (train)': 61,\n",
       "         u'competitor (trains)': 30,\n",
       "         u'competitor bus': 7,\n",
       "         u'competitor train)': 1,\n",
       "         u'general mentions': 2,\n",
       "         u'industry': 390,\n",
       "         u'smrt': 1,\n",
       "         u'smrt (corporate)': 88,\n",
       "         u'smrt bus': 502,\n",
       "         u'smrt buses': 5,\n",
       "         u'smrt corporate': 1,\n",
       "         u'smrt taxi': 68,\n",
       "         u'smrt taxis': 4,\n",
       "         u'smrt train': 280,\n",
       "         u'smrt trains': 339,\n",
       "         u'taxis': 1})"
      ]
     },
     "execution_count": 6,
     "metadata": {},
     "output_type": "execute_result"
    }
   ],
   "source": [
    "import collections\n",
    "\n",
    "collections.Counter(label_list)"
   ]
  },
  {
   "cell_type": "code",
   "execution_count": 7,
   "metadata": {
    "collapsed": false
   },
   "outputs": [
    {
     "name": "stdout",
     "output_type": "stream",
     "text": [
      "(1909, 1909)\n"
     ]
    }
   ],
   "source": [
    "#re-label: step 1 -- remove 'forum' and text including 'Same as'\n",
    "text = [x[0] for x in zip(text, label_list) if (x[1] != u'#ref!')]\n",
    "label_list = [x for x in label_list if ((x != u'#ref!'))]\n",
    "\n",
    "def hasContent(wds):\n",
    "    if((wds != u'#ref!') and (len(wds) > 5)):\n",
    "        return True\n",
    "    else:\n",
    "        return False\n",
    "\n",
    "maskKeyword = map(hasContent, text)\n",
    "text = [x[1] for x in zip(maskKeyword, text) if(x[0])]\n",
    "label_list = [x[1] for x in zip(maskKeyword, label_list) if(x[0])]\n",
    "\n",
    "print(len(text), len(label_list))"
   ]
  },
  {
   "cell_type": "code",
   "execution_count": 8,
   "metadata": {
    "collapsed": false
   },
   "outputs": [
    {
     "data": {
      "text/plain": [
       "Counter({u'(corporate)': 1,\n",
       "         u'competitor (bus)': 93,\n",
       "         u'competitor (buses)': 1,\n",
       "         u'competitor (taxi)': 33,\n",
       "         u'competitor (taxis)': 1,\n",
       "         u'competitor (train)': 61,\n",
       "         u'competitor (trains)': 30,\n",
       "         u'competitor bus': 7,\n",
       "         u'competitor train)': 1,\n",
       "         u'general mentions': 2,\n",
       "         u'industry': 390,\n",
       "         u'smrt': 1,\n",
       "         u'smrt (corporate)': 88,\n",
       "         u'smrt bus': 502,\n",
       "         u'smrt buses': 5,\n",
       "         u'smrt corporate': 1,\n",
       "         u'smrt taxi': 68,\n",
       "         u'smrt taxis': 4,\n",
       "         u'smrt train': 280,\n",
       "         u'smrt trains': 339,\n",
       "         u'taxis': 1})"
      ]
     },
     "execution_count": 8,
     "metadata": {},
     "output_type": "execute_result"
    }
   ],
   "source": [
    "collections.Counter(label_list)"
   ]
  },
  {
   "cell_type": "code",
   "execution_count": 9,
   "metadata": {
    "collapsed": false
   },
   "outputs": [
    {
     "data": {
      "text/plain": [
       "Counter({u'Buses': 101,\n",
       "         u'Public Transport Industry': 390,\n",
       "         u'SMRT Buses': 507,\n",
       "         u'SMRT Corporate': 93,\n",
       "         u'SMRT Taxis': 72,\n",
       "         u'SMRT Trains': 619,\n",
       "         u'Taxis': 35,\n",
       "         u'Trains': 92})"
      ]
     },
     "execution_count": 9,
     "metadata": {},
     "output_type": "execute_result"
    }
   ],
   "source": [
    "def reLabel(x):\n",
    "    if(x in [u'(corporate)', u'smrt (corporate)', u'smrt corporate', u'smrt', u'general mentions']):\n",
    "        return u'SMRT Corporate'\n",
    "    elif(x in [u'smrt bus', u'smrt buses']):\n",
    "        return u'SMRT Buses'\n",
    "    elif(x in [u'smrt train', u'smrt trains']):\n",
    "        return u'SMRT Trains'\n",
    "    elif(x in [u'smrt taxi', u'smrt taxis']):\n",
    "        return u'SMRT Taxis'\n",
    "    elif(x in [u'competitor (bus)', u'competitor (buses)', u'competitor bus']):\n",
    "        return u'Buses'\n",
    "    elif(x in [u'competitor (taxi)', u'competitor (taxis)', 'taxis']):\n",
    "        return u'Taxis'\n",
    "    elif(x in [u'competitor (train)', u'competitor (trains)', u'competitor train)']):\n",
    "        return u'Trains'\n",
    "    elif(x in [u'industry']):\n",
    "        return u'Public Transport Industry'\n",
    "    else:\n",
    "        return u'Unknown'\n",
    "\n",
    "label_list = map(reLabel, label_list)\n",
    "collections.Counter(label_list)"
   ]
  },
  {
   "cell_type": "code",
   "execution_count": 10,
   "metadata": {
    "collapsed": false
   },
   "outputs": [],
   "source": [
    "#load existing traditional media model to test\n",
    "from sklearn.externals import joblib\n",
    "#regression\n",
    "msg_model = joblib.load('/home/pretrain-model/category-ann-reg.pkl')\n",
    "id2term_itr = fileio.read_json('/home/pretrain-model/category-id2term-ann-reg')\n",
    "label2id_itr = fileio.read_json('/home/pretrain-model/category-label2id-ann-reg')\n",
    "\n",
    "id2term = [i for i in id2term_itr][0]\n",
    "label2id = [i for i in label2id_itr][0]"
   ]
  },
  {
   "cell_type": "code",
   "execution_count": 11,
   "metadata": {
    "collapsed": false
   },
   "outputs": [
    {
     "data": {
      "text/plain": [
       "{u'buses': 3,\n",
       " u'competitors': 5,\n",
       " u'overseas news': 1,\n",
       " u'public transport industry': 2,\n",
       " u'smrt buses': 6,\n",
       " u'smrt corporate': 4,\n",
       " u'smrt taxis': 8,\n",
       " u'smrt trains': 9,\n",
       " u'taxi': 0,\n",
       " u'trains': 7}"
      ]
     },
     "execution_count": 11,
     "metadata": {},
     "output_type": "execute_result"
    }
   ],
   "source": [
    "label2id"
   ]
  },
  {
   "cell_type": "code",
   "execution_count": 12,
   "metadata": {
    "collapsed": true
   },
   "outputs": [],
   "source": [
    "corpus_train = Corpus('en', texts = text)"
   ]
  },
  {
   "cell_type": "code",
   "execution_count": 13,
   "metadata": {
    "collapsed": false
   },
   "outputs": [
    {
     "name": "stderr",
     "output_type": "stream",
     "text": [
      "/usr/local/lib/python2.7/dist-packages/sklearn/utils/validation.py:429: DataConversionWarning: Data with input dtype int64 was converted to float64 by the normalize function.\n",
      "  warnings.warn(msg, _DataConversionWarning)\n"
     ]
    }
   ],
   "source": [
    "#topic model\n",
    "from textacy import vsm\n",
    "\n",
    "terms_lists = (doc.to_terms_list(ngrams={2, 3}, named_entities=True, as_strings=True) for doc in corpus_train)\n",
    "dtm_test, i2t_test = vsm.doc_term_matrix(terms_lists, weighting='tf', normalize=True, smooth_idf=True, min_df=3, max_df=0.95, max_n_terms=15000)"
   ]
  },
  {
   "cell_type": "code",
   "execution_count": 14,
   "metadata": {
    "collapsed": false
   },
   "outputs": [],
   "source": [
    "#build new index\n",
    "test2train = dict()\n",
    "for (i, j) in i2t_test.items():\n",
    "    if j in id2term.values():\n",
    "        train_i = id2term.keys()[id2term.values().index(j)]\n",
    "        test2train[i]=train_i"
   ]
  },
  {
   "cell_type": "code",
   "execution_count": 15,
   "metadata": {
    "collapsed": false
   },
   "outputs": [],
   "source": [
    "test_feature = np.zeros((dtm_test.shape[0], len(id2term)))\n",
    "dtm_test_array = dtm_test.toarray()\n",
    "\n",
    "for (i, j) in test2train.items():\n",
    "    test_feature[:, j] = dtm_test_array[:, i]"
   ]
  },
  {
   "cell_type": "code",
   "execution_count": 16,
   "metadata": {
    "collapsed": true
   },
   "outputs": [],
   "source": [
    "result = msg_model.predict(test_feature)\n",
    "pred_index = [x.argmax() for x in result]"
   ]
  },
  {
   "cell_type": "code",
   "execution_count": 17,
   "metadata": {
    "collapsed": false
   },
   "outputs": [],
   "source": [
    "def Label2ID(x):\n",
    "    if(x == u'Taxis'):\n",
    "        return 0\n",
    "    else:\n",
    "        return label2id[x.lower()]\n",
    "\n",
    "true_index = map(Label2ID, label_list)"
   ]
  },
  {
   "cell_type": "code",
   "execution_count": 21,
   "metadata": {
    "collapsed": false
   },
   "outputs": [
    {
     "name": "stdout",
     "output_type": "stream",
     "text": [
      "             precision    recall  f1-score   support\n",
      "\n",
      "          0       0.14      0.06      0.08        35\n",
      "          2       0.58      0.06      0.10       390\n",
      "          3       0.19      0.06      0.09       101\n",
      "          4       0.13      0.61      0.21        93\n",
      "          6       0.69      0.73      0.71       507\n",
      "          7       0.09      0.18      0.12        92\n",
      "          8       0.49      0.68      0.57        72\n",
      "          9       0.66      0.59      0.63       619\n",
      "\n",
      "avg / total       0.56      0.47      0.46      1909\n",
      "\n"
     ]
    }
   ],
   "source": [
    "from sklearn import metrics\n",
    "\n",
    "print(metrics.classification_report(y_true=true_index, y_pred=pred_index))"
   ]
  }
 ],
 "metadata": {
  "kernelspec": {
   "display_name": "Python 2",
   "language": "python",
   "name": "python2"
  },
  "language_info": {
   "codemirror_mode": {
    "name": "ipython",
    "version": 2
   },
   "file_extension": ".py",
   "mimetype": "text/x-python",
   "name": "python",
   "nbconvert_exporter": "python",
   "pygments_lexer": "ipython2",
   "version": "2.7.9"
  }
 },
 "nbformat": 4,
 "nbformat_minor": 1
}
