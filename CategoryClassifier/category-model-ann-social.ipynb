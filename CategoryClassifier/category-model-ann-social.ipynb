{
 "cells": [
  {
   "cell_type": "code",
   "execution_count": 1,
   "metadata": {
    "collapsed": false
   },
   "outputs": [],
   "source": [
    "from __future__ import unicode_literals\n",
    "from textacy import fileio, preprocess, extract, Corpus"
   ]
  },
  {
   "cell_type": "code",
   "execution_count": 2,
   "metadata": {
    "collapsed": false
   },
   "outputs": [],
   "source": [
    "summary_docs = fileio.read_file_lines('/home/SMRT-labeled/social-docs')\n",
    "summary_meta = fileio.read_json_lines('/home/SMRT-labeled/social-meta')"
   ]
  },
  {
   "cell_type": "code",
   "execution_count": 3,
   "metadata": {
    "collapsed": false
   },
   "outputs": [
    {
     "name": "stdout",
     "output_type": "stream",
     "text": [
      "(1937, 1937)\n"
     ]
    }
   ],
   "source": [
    "text = [t for t in summary_docs]\n",
    "meta = [m for m in summary_meta][0]\n",
    "\n",
    "print(len(text), len(meta))"
   ]
  },
  {
   "cell_type": "code",
   "execution_count": 4,
   "metadata": {
    "collapsed": false
   },
   "outputs": [
    {
     "name": "stdout",
     "output_type": "stream",
     "text": [
      "Category smrt bus\n"
     ]
    }
   ],
   "source": [
    "for k in meta[0]:\n",
    "    print k, meta[0][k]"
   ]
  },
  {
   "cell_type": "code",
   "execution_count": 5,
   "metadata": {
    "collapsed": false
   },
   "outputs": [],
   "source": [
    "#load lable data\n",
    "label_key = u'Category'\n",
    "\n",
    "label_list = map(lambda x:x[label_key], meta)"
   ]
  },
  {
   "cell_type": "code",
   "execution_count": 6,
   "metadata": {
    "collapsed": false
   },
   "outputs": [
    {
     "data": {
      "text/plain": [
       "Counter({u'#ref!': 28,\n",
       "         u'(corporate)': 1,\n",
       "         u'competitor (bus)': 93,\n",
       "         u'competitor (buses)': 1,\n",
       "         u'competitor (taxi)': 33,\n",
       "         u'competitor (taxis)': 1,\n",
       "         u'competitor (train)': 61,\n",
       "         u'competitor (trains)': 30,\n",
       "         u'competitor bus': 7,\n",
       "         u'competitor train)': 1,\n",
       "         u'general mentions': 2,\n",
       "         u'industry': 390,\n",
       "         u'smrt': 1,\n",
       "         u'smrt (corporate)': 88,\n",
       "         u'smrt bus': 502,\n",
       "         u'smrt buses': 5,\n",
       "         u'smrt corporate': 1,\n",
       "         u'smrt taxi': 68,\n",
       "         u'smrt taxis': 4,\n",
       "         u'smrt train': 280,\n",
       "         u'smrt trains': 339,\n",
       "         u'taxis': 1})"
      ]
     },
     "execution_count": 6,
     "metadata": {},
     "output_type": "execute_result"
    }
   ],
   "source": [
    "import collections\n",
    "\n",
    "collections.Counter(label_list)"
   ]
  },
  {
   "cell_type": "code",
   "execution_count": 7,
   "metadata": {
    "collapsed": false
   },
   "outputs": [
    {
     "name": "stdout",
     "output_type": "stream",
     "text": [
      "(1909, 1909)\n"
     ]
    }
   ],
   "source": [
    "#re-label: step 1 -- remove 'forum' and text including 'Same as'\n",
    "text = [x[0] for x in zip(text, label_list) if (x[1] != u'#ref!')]\n",
    "label_list = [x for x in label_list if ((x != u'#ref!'))]\n",
    "\n",
    "def hasContent(wds):\n",
    "    if((wds != u'#ref!') and (len(wds) > 5)):\n",
    "        return True\n",
    "    else:\n",
    "        return False\n",
    "\n",
    "maskKeyword = map(hasContent, text)\n",
    "text = [x[1] for x in zip(maskKeyword, text) if(x[0])]\n",
    "label_list = [x[1] for x in zip(maskKeyword, label_list) if(x[0])]\n",
    "\n",
    "print(len(text), len(label_list))"
   ]
  },
  {
   "cell_type": "code",
   "execution_count": 8,
   "metadata": {
    "collapsed": false
   },
   "outputs": [
    {
     "data": {
      "text/plain": [
       "Counter({u'(corporate)': 1,\n",
       "         u'competitor (bus)': 93,\n",
       "         u'competitor (buses)': 1,\n",
       "         u'competitor (taxi)': 33,\n",
       "         u'competitor (taxis)': 1,\n",
       "         u'competitor (train)': 61,\n",
       "         u'competitor (trains)': 30,\n",
       "         u'competitor bus': 7,\n",
       "         u'competitor train)': 1,\n",
       "         u'general mentions': 2,\n",
       "         u'industry': 390,\n",
       "         u'smrt': 1,\n",
       "         u'smrt (corporate)': 88,\n",
       "         u'smrt bus': 502,\n",
       "         u'smrt buses': 5,\n",
       "         u'smrt corporate': 1,\n",
       "         u'smrt taxi': 68,\n",
       "         u'smrt taxis': 4,\n",
       "         u'smrt train': 280,\n",
       "         u'smrt trains': 339,\n",
       "         u'taxis': 1})"
      ]
     },
     "execution_count": 8,
     "metadata": {},
     "output_type": "execute_result"
    }
   ],
   "source": [
    "collections.Counter(label_list)"
   ]
  },
  {
   "cell_type": "code",
   "execution_count": 9,
   "metadata": {
    "collapsed": false
   },
   "outputs": [
    {
     "data": {
      "text/plain": [
       "Counter({u'Buses': 101,\n",
       "         u'Public Transport Industry': 390,\n",
       "         u'SMRT Buses': 507,\n",
       "         u'SMRT Corporate': 93,\n",
       "         u'SMRT Taxis': 72,\n",
       "         u'SMRT Trains': 619,\n",
       "         u'Taxis': 35,\n",
       "         u'Trains': 92})"
      ]
     },
     "execution_count": 9,
     "metadata": {},
     "output_type": "execute_result"
    }
   ],
   "source": [
    "def reLabel(x):\n",
    "    if(x in [u'(corporate)', u'smrt (corporate)', u'smrt corporate', u'smrt', u'general mentions']):\n",
    "        return u'SMRT Corporate'\n",
    "    elif(x in [u'smrt bus', u'smrt buses']):\n",
    "        return u'SMRT Buses'\n",
    "    elif(x in [u'smrt train', u'smrt trains']):\n",
    "        return u'SMRT Trains'\n",
    "    elif(x in [u'smrt taxi', u'smrt taxis']):\n",
    "        return u'SMRT Taxis'\n",
    "    elif(x in [u'competitor (bus)', u'competitor (buses)', u'competitor bus']):\n",
    "        return u'Buses'\n",
    "    elif(x in [u'competitor (taxi)', u'competitor (taxis)', 'taxis']):\n",
    "        return u'Taxis'\n",
    "    elif(x in [u'competitor (train)', u'competitor (trains)', u'competitor train)']):\n",
    "        return u'Trains'\n",
    "    elif(x in [u'industry']):\n",
    "        return u'Public Transport Industry'\n",
    "    else:\n",
    "        return u'Unknown'\n",
    "\n",
    "label_list = map(reLabel, label_list)\n",
    "collections.Counter(label_list)"
   ]
  },
  {
   "cell_type": "code",
   "execution_count": 10,
   "metadata": {
    "collapsed": true
   },
   "outputs": [],
   "source": [
    "unique_label = list(set(label_list))\n",
    "label2id = dict(zip(unique_label, range(len(unique_label))))\n",
    "label_id = map(lambda x:label2id[x], label_list)\n",
    "\n",
    "corpus_train = Corpus('en', texts = text)"
   ]
  },
  {
   "cell_type": "code",
   "execution_count": 13,
   "metadata": {
    "collapsed": false
   },
   "outputs": [],
   "source": [
    "#topic model\n",
    "from textacy import vsm\n",
    "\n",
    "terms_lists = (doc.to_terms_list(ngrams={2, 3}, named_entities=True, as_strings=True) for doc in corpus_train)\n",
    "doc_term_matrix, id2term = vsm.doc_term_matrix(terms_lists, weighting='tf', normalize=True, smooth_idf=True, min_df=3, max_df=0.95, max_n_terms=15000)"
   ]
  },
  {
   "cell_type": "code",
   "execution_count": 14,
   "metadata": {
    "collapsed": false
   },
   "outputs": [
    {
     "data": {
      "text/plain": [
       "<1909x4527 sparse matrix of type '<type 'numpy.float64'>'\n",
       "\twith 36899 stored elements in Compressed Sparse Row format>"
      ]
     },
     "execution_count": 14,
     "metadata": {},
     "output_type": "execute_result"
    }
   ],
   "source": [
    "doc_term_matrix"
   ]
  },
  {
   "cell_type": "code",
   "execution_count": 15,
   "metadata": {
    "collapsed": false
   },
   "outputs": [],
   "source": [
    "#MLPClassifier requires sklearn >=0.18\n",
    "#classifier\n",
    "#from sklearn.neural_network import MLPClassifier\n",
    "#regression\n",
    "from sklearn.neural_network import MLPRegressor\n",
    "#use sknn instead\n",
    "#from sknn.mlp import Classifier, Layer\n",
    "import numpy as np\n",
    "\n",
    "def id2array(id, a_len):\n",
    "    result = np.zeros(a_len)\n",
    "    result[id] = 1\n",
    "    return result\n",
    "\n",
    "labeltype = len(label2id.keys())\n",
    "\n",
    "msg_x = doc_term_matrix.toarray()\n",
    "msg_y = np.array([id2array(x, labeltype) for x in label_id])"
   ]
  },
  {
   "cell_type": "code",
   "execution_count": 16,
   "metadata": {
    "collapsed": false
   },
   "outputs": [
    {
     "data": {
      "text/plain": [
       "MLPRegressor(activation=u'logistic', alpha=1e-05, batch_size=20, beta_1=0.9,\n",
       "       beta_2=0.999, early_stopping=False, epsilon=1e-08,\n",
       "       hidden_layer_sizes=(500, 120), learning_rate='constant',\n",
       "       learning_rate_init=0.001, max_iter=200, momentum=0.9,\n",
       "       nesterovs_momentum=True, power_t=0.5, random_state=1, shuffle=True,\n",
       "       solver=u'adam', tol=0.0001, validation_fraction=0.1, verbose=False,\n",
       "       warm_start=False)"
      ]
     },
     "execution_count": 16,
     "metadata": {},
     "output_type": "execute_result"
    }
   ],
   "source": [
    "clf = MLPRegressor(activation='logistic', solver='adam', alpha=1e-5, batch_size=20, hidden_layer_sizes=(500, 120), random_state=1)\n",
    "clf.fit(msg_x, msg_y)"
   ]
  },
  {
   "cell_type": "code",
   "execution_count": 17,
   "metadata": {
    "collapsed": false
   },
   "outputs": [
    {
     "data": {
      "text/plain": [
       "0.97855049689833751"
      ]
     },
     "execution_count": 17,
     "metadata": {},
     "output_type": "execute_result"
    }
   ],
   "source": [
    "clf.score(msg_x, msg_y)"
   ]
  },
  {
   "cell_type": "code",
   "execution_count": 18,
   "metadata": {
    "collapsed": false
   },
   "outputs": [],
   "source": [
    "#save model\n",
    "from sklearn.externals import joblib\n",
    "\n",
    "savefiles = joblib.dump(clf, '/home/pretrain-model/category-ann-reg-social.pkl') \n",
    "\n",
    "#save meta\n",
    "fileio.write_json(label2id, '/home/pretrain-model/category-label2id-ann-reg-social')\n",
    "fileio.write_json(id2term, '/home/pretrain-model/category-id2term-ann-reg-social')"
   ]
  }
 ],
 "metadata": {
  "kernelspec": {
   "display_name": "Python 2",
   "language": "python",
   "name": "python2"
  },
  "language_info": {
   "codemirror_mode": {
    "name": "ipython",
    "version": 2
   },
   "file_extension": ".py",
   "mimetype": "text/x-python",
   "name": "python",
   "nbconvert_exporter": "python",
   "pygments_lexer": "ipython2",
   "version": "2.7.9"
  }
 },
 "nbformat": 4,
 "nbformat_minor": 1
}
